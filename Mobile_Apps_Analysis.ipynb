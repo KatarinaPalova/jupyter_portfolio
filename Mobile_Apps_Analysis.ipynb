{
 "cells": [
  {
   "cell_type": "markdown",
   "id": "9ffb02ec",
   "metadata": {},
   "source": [
    "# 🚀 Mobile Apps Data Exploration\n",
    "\n",
    "Mobile Apps are on the rise, the two major platforms that offer these apps are Google Play and Apple App Store. In Q3 2022 there were more than 3.5 milion apps on Google's platform and more than 1.6 million apps on Apple's platform [(Statista)](https://www.netsolutions.com/insights/launch-app-on-android-or-ios-app-store-first/). The competition is high and consequently software development companies need to understand what kind of an app has the highest chance to succeed. That is the main purpose of this exploration.\n",
    "\n",
    "This analysis dives into a dataset on mobile apps of two major app marketplaces. We will investigate their user data to try to underpin what would be the best app genre to concentrate on if we want to maximse our chances of having a succesful and profitable app. The company is looking to launch an app with the following attributes:\n",
    "1. Free App\n",
    "2. English language only\n",
    "3. Monetisation through in-app purchases\n",
    "\n",
    "Having these three conditions we will try to narrow down the areas to explore by providing a recommendation on the 3 app genres that present the biggest opportunity.\n",
    "\n",
    "The company plans to first rollout on Google Play to prove the concept amd take advantage of a larger userbase. Once the concept is proven they are planning to expand to Apple App Store. That's why data from the Google dataset will have a bigger weight when we'll make our recommendations later.\n",
    "\n",
    "This project's goal is also to demonstrate an example of how we can use Python to analyze data to gain business insights and **help stakeholders make informed decisions**."
   ]
  },
  {
   "cell_type": "markdown",
   "id": "eaa68e63",
   "metadata": {},
   "source": [
    "## Data sources\n",
    "\n",
    "For our analysis we will use publicly available Apple Store and Google Store datasets from Kaggle. \n",
    "\n",
    "They were both collected in 2021 but the Google one has June's data whereas the Apple one has October's data. *This may cause some discrepancies due to seasonal popularity of one genre or the other but because we're going to be looking at the data at an aggregate level this effect shouldn't be that major. For a proper analysis, **data collected during the same period would be preferable.\n",
    "\n",
    "[Link](https://www.kaggle.com/datasets/gauthamp10/apple-appstore-apps) to Apple Store data. \n",
    "\n",
    "[Link](https://www.kaggle.com/datasets/gauthamp10/google-playstore-apps) to Google Store data."
   ]
  },
  {
   "cell_type": "markdown",
   "id": "8aa50830",
   "metadata": {},
   "source": [
    "## Step 1: Exploring Data Sets\n",
    "In this section we will create a function that opens datasets and transforms them into a list of lists, so that we can manipulate the data more easily.\n",
    "\n",
    "After that, we will look at the structure of the datasets, the number of columns and rows and see a couple rows of data as examples."
   ]
  },
  {
   "cell_type": "code",
   "execution_count": 6,
   "id": "dcd40721",
   "metadata": {},
   "outputs": [],
   "source": [
    "from csv import reader \n",
    "\n",
    "# This function takes in the path to the dataset to analyse and returns the dataset in a form of a list of lists\n",
    "def open_dataset(dataset_path):\n",
    "    opened_file = open(dataset_path)\n",
    "    read_file = reader(opened_file)\n",
    "    data = list(read_file) #transforming the dataset into a list of lists\n",
    "    opened_file.close() \n",
    "    return data "
   ]
  },
  {
   "cell_type": "code",
   "execution_count": 7,
   "id": "bf824df2",
   "metadata": {},
   "outputs": [],
   "source": [
    "apple_data = open_dataset(\"appleAppData.csv\")\n",
    "google_data = open_dataset(\"Google-Playstore.csv\")"
   ]
  },
  {
   "cell_type": "code",
   "execution_count": 8,
   "id": "4bec8c24",
   "metadata": {},
   "outputs": [],
   "source": [
    "# This function takes 4 arguments, dataset to analyse, which rows to print out and a flag whether it contains \n",
    "# a header or not. Most of datasets have headers so the start_row argument has default value of 2 to skip printing\n",
    "# the header.\n",
    "# Function returns header (if applicable), if no header is presented it prints out first row, the number of rows \n",
    "# selected and finally the number of rows and columns in the dataset.\n",
    "def explore_dataset(dataset, start_row = 2, end_row = 4, has_header = True):\n",
    "    if has_header:\n",
    "        print(\"Header:\", dataset[0])\n",
    "        rows = len(dataset)-1 # substracting header column from row count\n",
    "    else:\n",
    "        print(\"Header: No header\")\n",
    "        rows = len(dataset)\n",
    "        \n",
    "    print(\"Showing rows \", start_row, \"to \", end_row, \"\\n\")\n",
    "    \n",
    "    for row in dataset[start_row-1:end_row+1]:\n",
    "        print(row, \"\\n\") # iterating over each row and printing it out\n",
    "    \n",
    "    print(\"Number of rows = \", rows)\n",
    "    print(\"Number of columns = \", len(dataset[0]))"
   ]
  },
  {
   "cell_type": "code",
   "execution_count": 9,
   "id": "4f46d9c3",
   "metadata": {},
   "outputs": [
    {
     "name": "stdout",
     "output_type": "stream",
     "text": [
      "Header: ['App_Id', 'App_Name', 'AppStore_Url', 'Primary_Genre', 'Content_Rating', 'Size_Bytes', 'Required_IOS_Version', 'Released', 'Updated', 'Version', 'Price', 'Currency', 'Free', 'DeveloperId', 'Developer', 'Developer_Url', 'Developer_Website', 'Average_User_Rating', 'Reviews', 'Current_Version_Score', 'Current_Version_Reviews']\n",
      "Showing rows  2 to  4 \n",
      "\n",
      "['com.hkbu.arc.apaper', 'A+ Paper Guide', 'https://apps.apple.com/us/app/a-paper-guide/id1277517387?uo=4', 'Education', '4+', '21993472', '8.0', '2017-09-28T03:02:41Z', '2018-12-21T21:30:36Z', '1.1.2', '0.0', 'USD', 'True', '1375410542', 'HKBU ARC', 'https://apps.apple.com/us/developer/hkbu-arc/id1375410542?uo=4', '', '0.0', '0', '0.0', '0'] \n",
      "\n",
      "['com.dmitriev.abooks', 'A-Books', 'https://apps.apple.com/us/app/a-books/id1031572002?uo=4', 'Book', '4+', '13135872', '10.0', '2015-08-31T19:31:32Z', '2019-07-23T20:31:09Z', '1.3', '0.0', 'USD', 'True', '1031572001', 'Roman Dmitriev', 'https://apps.apple.com/us/developer/roman-dmitriev/id1031572001?uo=4', '', '5.0', '1', '5.0', '1'] \n",
      "\n",
      "['no.terp.abooks', 'A-books', 'https://apps.apple.com/us/app/a-books/id1457024164?uo=4', 'Book', '4+', '21943296', '9.0', '2021-04-14T07:00:00Z', '2021-05-30T21:08:54Z', '1.3.1', '0.0', 'USD', 'True', '1457024163', 'Terp AS', 'https://apps.apple.com/us/developer/terp-as/id1457024163?uo=4', '', '0.0', '0', '0.0', '0'] \n",
      "\n",
      "['fr.antoinettefleur.Book1', 'A-F Book #1', 'https://apps.apple.com/us/app/a-f-book-1/id500454885?uo=4', 'Book', '4+', '81851392', '8.0', '2012-02-10T03:40:07Z', '2019-10-29T12:40:37Z', '1.2', '2.99', 'USD', 'False', '439568839', 'i-editeur.com', 'https://apps.apple.com/us/developer/i-editeur-com/id439568839?uo=4', '', '0.0', '0', '0.0', '0'] \n",
      "\n",
      "Number of rows =  1230376\n",
      "Number of columns =  21\n"
     ]
    }
   ],
   "source": [
    "explore_dataset(apple_data)"
   ]
  },
  {
   "cell_type": "code",
   "execution_count": 10,
   "id": "fac35b35",
   "metadata": {
    "scrolled": true
   },
   "outputs": [
    {
     "name": "stdout",
     "output_type": "stream",
     "text": [
      "Header: ['App Name', 'App Id', 'Category', 'Rating', 'Rating Count', 'Installs', 'Minimum Installs', 'Maximum Installs', 'Free', 'Price', 'Currency', 'Size', 'Minimum Android', 'Developer Id', 'Developer Website', 'Developer Email', 'Released', 'Last Updated', 'Content Rating', 'Privacy Policy', 'Ad Supported', 'In App Purchases', 'Editors Choice', 'Scraped Time']\n",
      "Showing rows  2 to  4 \n",
      "\n",
      "['Gakondo', 'com.ishakwe.gakondo', 'Adventure', '0.0', '0', '10+', '10', '15', 'True', '0', 'USD', '10M', '7.1 and up', 'Jean Confident Irénée NIYIZIBYOSE', 'https://beniyizibyose.tk/#/', 'jean21101999@gmail.com', 'Feb 26, 2020', 'Feb 26, 2020', 'Everyone', 'https://beniyizibyose.tk/projects/', 'False', 'False', 'False', '2021-06-15 20:19:35'] \n",
      "\n",
      "['Ampere Battery Info', 'com.webserveis.batteryinfo', 'Tools', '4.4', '64', '5,000+', '5000', '7662', 'True', '0', 'USD', '2.9M', '5.0 and up', 'Webserveis', 'https://webserveis.netlify.app/', 'webserveis@gmail.com', 'May 21, 2020', 'May 06, 2021', 'Everyone', 'https://dev4phones.wordpress.com/licencia-de-uso/', 'True', 'False', 'False', '2021-06-15 20:19:35'] \n",
      "\n",
      "['Vibook', 'com.doantiepvien.crm', 'Productivity', '0.0', '0', '50+', '50', '58', 'True', '0', 'USD', '3.7M', '4.0.3 and up', 'Cabin Crew', '', 'vnacrewit@gmail.com', 'Aug 9, 2019', 'Aug 19, 2019', 'Everyone', 'https://www.vietnamairlines.com/vn/en/terms-and-conditions/privacy-policy', 'False', 'False', 'False', '2021-06-15 20:19:35'] \n",
      "\n",
      "['Smart City Trichy Public Service Vehicles 17UCS548', 'cst.stJoseph.ug17ucs548', 'Communication', '5.0', '5', '10+', '10', '19', 'True', '0', 'USD', '1.8M', '4.0.3 and up', 'Climate Smart Tech2', 'http://www.climatesmarttech.com/', 'climatesmarttech2@gmail.com', 'Sep 10, 2018', 'Oct 13, 2018', 'Everyone', '', 'True', 'False', 'False', '2021-06-15 20:19:35'] \n",
      "\n",
      "Number of rows =  2312944\n",
      "Number of columns =  24\n"
     ]
    }
   ],
   "source": [
    "explore_dataset(google_data)"
   ]
  },
  {
   "cell_type": "markdown",
   "id": "8e655f2a",
   "metadata": {},
   "source": [
    "## Step 2: Filtering the dataset\n",
    "Both data sets contain big amounts of data, so in order to speed execution times we are going to apply filters to shrink the size down.\n",
    "\n",
    "We know we need only free apps and English speaking apps so we can filter based on these two conditions right away since the rest isn't of interest for this company."
   ]
  },
  {
   "cell_type": "markdown",
   "id": "3ab2fb7f",
   "metadata": {},
   "source": [
    "**Filtering free apps only**"
   ]
  },
  {
   "cell_type": "code",
   "execution_count": 24,
   "id": "256fcbce",
   "metadata": {},
   "outputs": [
    {
     "name": "stdout",
     "output_type": "stream",
     "text": [
      "Google Play Store:\n",
      "45069 rows were filtered out.\n",
      "\n",
      "Apple App Store:\n",
      "102993 rows were filtered out.\n"
     ]
    }
   ],
   "source": [
    "# This function takes in 4 arguments, the dataset on which to perform the filter, the column that contains the value\n",
    "# to filter by, the value used for filtering and finally what kind of a filter we want. \"Include\" will keep only rows\n",
    "# that match the value whereas \"Exclude\" will keep all rows except those that contain that value.\n",
    "# This function returns a filtered dataset (list of lists)\n",
    "def filter_value(dataset, column_index, value, filter_type = \"Include\"):\n",
    "    filtered_data = []\n",
    "    if filter_type == \"Include\":\n",
    "        for row in dataset:\n",
    "            if row[column_index] == value:\n",
    "                filtered_data.append(row)\n",
    "        print(len(dataset)-len(filtered_data), \"rows were filtered out.\")\n",
    "        return filtered_data\n",
    "    elif filter_type == \"Exclude\":\n",
    "        for row in dataset:\n",
    "            if row[column_index] != value:\n",
    "                filtered_data.append(row)\n",
    "        print(len(dataset)-len(filtered_data), \"rows were filtered out.\")\n",
    "        return filtered_data\n",
    "    else:\n",
    "        print('Filter_type not recognized. Only \"Include\" and \"Exclude\" are permitted.')\n",
    "    \n",
    "print(\"Google Play Store:\")\n",
    "google_data_free = filter_value(google_data, 8, \"True\")\n",
    "print(\"\\nApple App Store:\")\n",
    "apple_data_free = filter_value(apple_data, 12, \"True\")"
   ]
  },
  {
   "cell_type": "markdown",
   "id": "bdf377c1",
   "metadata": {},
   "source": [
    "**Filtering apps that are most likely English**"
   ]
  },
  {
   "cell_type": "code",
   "execution_count": 14,
   "id": "1e987b5b",
   "metadata": {},
   "outputs": [
    {
     "name": "stdout",
     "output_type": "stream",
     "text": [
      "Google Play Store:\n",
      " {'Currency': 1, 'USD': 2311548, 'XXX': 1236, 'CAD': 2, 'EUR': 6, 'INR': 5, '': 135, 'VND': 1, 'GBP': 3, 'BRL': 1, 'KRW': 1, 'TRY': 1, 'RUB': 1, 'SGD': 1, 'AUD': 1, 'PKR': 1, 'ZAR': 1} \n",
      "\n",
      "Apple App Store:\n",
      " {'Currency': 1, 'USD': 1230376}\n"
     ]
    }
   ],
   "source": [
    "# Step 1: Checking whether we can use currency as an indicator\n",
    "currencies_google = {}\n",
    "for app in google_data:\n",
    "    currency = app[10]\n",
    "    if currency in currencies_google:\n",
    "        currencies_google[currency] += 1\n",
    "    else:\n",
    "        currencies_google[currency] = 1\n",
    "print(\"Google Play Store:\\n\", currencies_google, \"\\n\")\n",
    "\n",
    "currencies_apple = {}\n",
    "for app in apple_data:\n",
    "    currency = app[11]\n",
    "    if currency in currencies_apple:\n",
    "        currencies_apple[currency] += 1\n",
    "    else:\n",
    "        currencies_apple[currency] = 1\n",
    "print(\"Apple App Store:\\n\", currencies_apple)"
   ]
  },
  {
   "cell_type": "markdown",
   "id": "ead29548",
   "metadata": {},
   "source": [
    "Currency doesn't seem to be a good indicator of the language of the app, therefore we will use the characters used in its name as a proxy. Essentially we will consider an app to be English if it doesn't contain 3 or more non-English characters. Ths approach has its limitations as many languages don't use any special characters that would distinguish them from English."
   ]
  },
  {
   "cell_type": "code",
   "execution_count": 16,
   "id": "7d47adb5",
   "metadata": {},
   "outputs": [
    {
     "name": "stdout",
     "output_type": "stream",
     "text": [
      "13\n",
      "0\n",
      "1\n"
     ]
    }
   ],
   "source": [
    "# Step 2: Writing a function that checks each app name\n",
    "# This function takes in the name of the app as an argument and returns the number of non-English characters\n",
    "# This way we can set the condition for how many non-English characters we want later and the function is more \n",
    "# versatile\n",
    "def is_name_english(app_name):\n",
    "    non_english_char_count = 0\n",
    "    for character in app_name:\n",
    "        if ord(character) > 127: \n",
    "            # Checking ASCII code of each character, most used English characters have a number < 127\n",
    "            non_english_char_count += 1\n",
    "    return non_english_char_count\n",
    "\n",
    "# Check that it works as expected for the name '爱奇艺PPS -《欢乐颂2》电视剧热播', should return 13, 0 and 1\n",
    "print(is_name_english('爱奇艺PPS -《欢乐颂2》电视剧热播'))\n",
    "print(is_name_english('Instagram'))\n",
    "print(is_name_english('Instagram 😜'))"
   ]
  },
  {
   "cell_type": "code",
   "execution_count": 25,
   "id": "478bd3f6",
   "metadata": {},
   "outputs": [
    {
     "name": "stdout",
     "output_type": "stream",
     "text": [
      "Google Play Store:\n",
      "196218 rows were filtered out.\n",
      "Remaining rows: 2071658 \n",
      "\n",
      "Apple App Store:\n",
      "27255 rows were filtered out.\n",
      "Remaining rows: 1100129 \n",
      "\n"
     ]
    }
   ],
   "source": [
    "# Step 3: Filtering all entries that contain app names with 3 or more non-English characters\n",
    "# This function takes in three arguments, the data set to filter, the column index that contains app name,\n",
    "# and the min number of non-english characters to classify app as a non-English app. A filtered data set (list) \n",
    "# is returned.\n",
    "def filter_non_en(dataset, index, characters = 3):\n",
    "    filtered_data = []\n",
    "    for app in dataset:\n",
    "        app_name = app[index]\n",
    "        if is_name_english(app_name) < characters:\n",
    "            filtered_data.append(app)\n",
    "    print(len(dataset)-len(filtered_data), \"rows were filtered out.\")\n",
    "    return filtered_data\n",
    "\n",
    "print(\"Google Play Store:\")\n",
    "google_data_free_en = filter_non_en(google_data_free, 0)\n",
    "print(\"Remaining rows:\", len(google_data_free_en), \"\\n\")\n",
    "\n",
    "\n",
    "print(\"Apple App Store:\")\n",
    "apple_data_free_en = filter_non_en(apple_data_free, 1)\n",
    "print(\"Remaining rows:\", len(apple_data_free_en),\"\\n\")"
   ]
  },
  {
   "cell_type": "markdown",
   "id": "c39a7e8f",
   "metadata": {},
   "source": [
    "Our datasets are still quite robust and for the purposes of this analysis we are going to refine even further. We are only interested in apps that people engage with so we will take apps that have at least 1 review.\n",
    "\n",
    "**Filtering apps that have at least 1 review**"
   ]
  },
  {
   "cell_type": "code",
   "execution_count": 26,
   "id": "4cfe6ef4",
   "metadata": {},
   "outputs": [
    {
     "name": "stdout",
     "output_type": "stream",
     "text": [
      "Google Play Store:\n",
      "967225 rows were filtered out.\n",
      "Remaining rows: 1104433 \n",
      "\n",
      "Apple App Store:\n",
      "610704 rows were filtered out.\n",
      "Remaining rows: 489425 \n",
      "\n"
     ]
    }
   ],
   "source": [
    "# This function takes the datased and the index of the column that countains review count as arguments\n",
    "# This function returns a filtered list\n",
    "def filter_no_reviews(dataset, index):\n",
    "    filtered_data = []\n",
    "    for app in dataset:\n",
    "        no_of_reviews = app[index]\n",
    "        if no_of_reviews != '0' and no_of_reviews != '': # The Google data set contained null values as well\n",
    "            filtered_data.append(app)\n",
    "    return filtered_data\n",
    "\n",
    "print(\"Google Play Store:\")\n",
    "google_data_free_en = filter_value(google_data_free_en, 4, \"0\", filter_type = \"Exclude\")\n",
    "print(\"Remaining rows:\", len(google_data_free_en), \"\\n\")\n",
    "\n",
    "print(\"Apple App Store:\")\n",
    "apple_data_free_en = filter_value(apple_data_free_en, -3, \"0\", filter_type = \"Exclude\")\n",
    "print(\"Remaining rows:\", len(apple_data_free_en), \"\\n\")"
   ]
  },
  {
   "cell_type": "markdown",
   "id": "d8281c1d",
   "metadata": {},
   "source": [
    "Now in the Google dataset we have moticed that sometimes when there are no reviews the field is \"\" instead of \"0\" so we will do one additional filter."
   ]
  },
  {
   "cell_type": "code",
   "execution_count": 28,
   "id": "d159660b",
   "metadata": {},
   "outputs": [
    {
     "name": "stdout",
     "output_type": "stream",
     "text": [
      "Google Play Store:\n",
      "22011 rows were filtered out.\n",
      "Remaining rows: 1082422 \n",
      "\n"
     ]
    }
   ],
   "source": [
    "print(\"Google Play Store:\")\n",
    "google_data_free_en = filter_value(google_data_free_en, 4, \"\", filter_type = \"Exclude\")\n",
    "print(\"Remaining rows:\", len(google_data_free_en), \"\\n\")"
   ]
  },
  {
   "cell_type": "markdown",
   "id": "d6ea6e93",
   "metadata": {},
   "source": [
    "Since we want to make money through in-app purchases we might be interested only in apps that offer this possibility. The Google Store data set offers this option so let's apply one final filter.\n",
    "\n",
    "**Filter apps that don't allow in-app purchases from the Google Store dataset**"
   ]
  },
  {
   "cell_type": "code",
   "execution_count": 29,
   "id": "dbed7833",
   "metadata": {},
   "outputs": [
    {
     "name": "stdout",
     "output_type": "stream",
     "text": [
      "Google Play Store:\n",
      "939972 rows were filtered out.\n",
      "Remaining rows: 142450 \n",
      "\n",
      "Final filtered Apple dataset has:  489425\n",
      "Final filtered Google dataset has:  142450\n"
     ]
    }
   ],
   "source": [
    "# filtered_data = []\n",
    "# for app in google_data_free_en:\n",
    "#     allows_in_app = app[-3]\n",
    "#     if allows_in_app == \"True\": \n",
    "#         filtered_data.append(app)\n",
    "# google_data_free_en = filtered_data\n",
    "\n",
    "print(\"Google Play Store:\")\n",
    "google_data_free_en = filter_value(google_data_free_en, -3, \"True\", filter_type = \"Include\")\n",
    "print(\"Remaining rows:\", len(google_data_free_en), \"\\n\")\n",
    "\n",
    "print(\"Final filtered Apple dataset has: \", len(apple_data_free_en))\n",
    "print(\"Final filtered Google dataset has: \",len(google_data_free_en))"
   ]
  },
  {
   "cell_type": "markdown",
   "id": "70d1de52",
   "metadata": {},
   "source": [
    "## Step 3: Cleaning the Data\n",
    "Now that we have our final filtered datasets we can proceed to clean the data.\n",
    "\n",
    "In this step we will try to clean the data from the most common issue. Removing **duplicate values that we will first identify using a function and then we will remove them.**"
   ]
  },
  {
   "cell_type": "code",
   "execution_count": 27,
   "id": "ac51ee18",
   "metadata": {},
   "outputs": [],
   "source": [
    "from tqdm import tqdm\n",
    "from time import sleep\n",
    "# This function takes three arguments, the dataset we want to find duplicates in and the column in which we are \n",
    "# interested and the number of examples we want to show. \n",
    "# By default this function shows one example of an app that is in the dataset multiple times.\n",
    "\n",
    "def count_duplicates(dataset, column_index): \n",
    "    duplicates = []\n",
    "    unique_apps = []\n",
    "    for row in tqdm(dataset):\n",
    "        value = row[column_index]\n",
    "        if value in unique_apps:\n",
    "            duplicates.append(value)\n",
    "        else:\n",
    "            unique_apps.append(value)\n",
    "    if len(duplicates) == 0:\n",
    "        print(\"There are no duplicates for chosen column.\")\n",
    "    else:\n",
    "        print(\"There are \", len(duplicates), \" duplicates in this dataset.\")\n",
    "        print(\"Here are some examples of duplicates:\")\n",
    "        print(duplicates[:5])\n",
    "        \n",
    "    return unique_apps"
   ]
  },
  {
   "cell_type": "code",
   "execution_count": 38,
   "id": "e722caad",
   "metadata": {
    "scrolled": true
   },
   "outputs": [
    {
     "name": "stderr",
     "output_type": "stream",
     "text": [
      "100%|██████████████████████████████████| 489425/489425 [59:05<00:00, 138.04it/s]"
     ]
    },
    {
     "name": "stdout",
     "output_type": "stream",
     "text": [
      "There are no duplicates for chosen column.\n"
     ]
    },
    {
     "name": "stderr",
     "output_type": "stream",
     "text": [
      "\n"
     ]
    }
   ],
   "source": [
    "apple_unique_apps = count_duplicates(apple_data_free_en,0)"
   ]
  },
  {
   "cell_type": "markdown",
   "id": "0192a59d",
   "metadata": {},
   "source": [
    "After removing apps with no reviews no duplicates were found in the data so additional step not needed."
   ]
  },
  {
   "cell_type": "markdown",
   "id": "124207be",
   "metadata": {},
   "source": [
    "## Step 4: Analyzing the data\n",
    "After filtering and cleaning of the data we are going to analyse the datasets. The company wants to approach the launch by first launching on Google Play Store and then launching on Apple App Store. \n",
    "\n",
    "Essentially Google store will be used as a proof of concept where an MVP of the app will be developed and afterwards the app will be expanded to other markets.\n",
    "\n",
    "Threfore we will look at what genres are popular on both markets but a bigger emphasis will be placed on Google's data."
   ]
  },
  {
   "cell_type": "code",
   "execution_count": 60,
   "id": "8d0377db",
   "metadata": {},
   "outputs": [
    {
     "name": "stdout",
     "output_type": "stream",
     "text": [
      "App Genres on Apple store by count descending:\n",
      "\n",
      "Games : 23.3 %\n",
      "Education : 9.0 %\n",
      "Business : 7.8 %\n",
      "Lifestyle : 6.9 %\n",
      "Utilities : 6.2 %\n",
      "Health & Fitness : 5.0 %\n",
      "Entertainment : 5.0 %\n",
      "Finance : 4.6 %\n",
      "Productivity : 3.8 %\n",
      "Food & Drink : 3.7 %\n",
      "Shopping : 3.2 %\n",
      "Travel : 2.7 %\n",
      "Photo & Video : 2.7 %\n",
      "Music : 2.7 %\n",
      "Sports : 2.4 %\n",
      "Social Networking : 2.3 %\n",
      "Medical : 2.1 %\n",
      "Reference : 1.6 %\n",
      "News : 1.6 %\n",
      "Book : 1.0 %\n",
      "Navigation : 0.9 %\n",
      "Stickers : 0.5 %\n",
      "Weather : 0.4 %\n",
      "Graphics & Design : 0.2 %\n",
      "Magazines & Newspapers : 0.1 %\n",
      "Developer Tools : 0.1 %\n",
      "\n",
      "App Genres on Google store by count descending:\n",
      "\n",
      "Games : 43.5 %\n",
      "Education : 7.4 %\n",
      "Tools : 6.4 %\n",
      "Entertainment : 4.1 %\n",
      "Books & Reference : 3.8 %\n",
      "Sports : 3.4 %\n",
      "Health & Fitness : 3.3 %\n",
      "Productivity : 2.8 %\n",
      "Lifestyle : 2.7 %\n",
      "News & Magazines : 2.3 %\n",
      "Music & Audio : 2.2 %\n",
      "Travel & Local : 1.9 %\n",
      "Personalization : 1.9 %\n",
      "Social : 1.8 %\n",
      "Photography : 1.4 %\n",
      "Finance : 1.2 %\n",
      "Business : 1.2 %\n",
      "Weather : 1.1 %\n",
      "Communication : 1.1 %\n",
      "Dating : 0.9 %\n",
      "Medical : 0.8 %\n",
      "Maps & Navigation : 0.8 %\n",
      "Video Players & Editors : 0.7 %\n",
      "Food & Drink : 0.7 %\n",
      "Auto & Vehicles : 0.5 %\n",
      "Music : 0.4 %\n",
      "Art & Design : 0.4 %\n",
      "Shopping : 0.3 %\n",
      "Parenting : 0.3 %\n",
      "Comics : 0.3 %\n",
      "Libraries & Demo : 0.2 %\n",
      "House & Home : 0.2 %\n",
      "Events : 0.1 %\n",
      "Beauty : 0.1 %\n"
     ]
    }
   ],
   "source": [
    "# Step 1: Create a frequency table function\n",
    "# This function takes in 2 arguments, the name of the dataset and the index of the column for which we want the \n",
    "# frequencies\n",
    "\n",
    "def freq_table(dataset, index):\n",
    "    table = {}\n",
    "    length = len(dataset[1:]) # We need to omit the header from total length\n",
    "    for row in dataset: # first we calculate the absolute number of occurences for each app\n",
    "        value = row[index]\n",
    "        if value in table:\n",
    "            table[value] += 1\n",
    "        else:\n",
    "            table[value] = 1\n",
    "    for app in table: # secondly we will calculate the share of each app from total\n",
    "        table[app] = round(table[app]/length*100,1)\n",
    "    return table\n",
    "\n",
    "apple_freq_table = freq_table(apple_data_free_en, 3)\n",
    "google_freq_table = freq_table(google_data_free_en, 2)\n",
    "\n",
    "# Step 2: Display the created frequency table (most of the function code comes from dataquest). I have added two\n",
    "# additional arguments to permit rounding and to display units like %, nothing is displayed by default.\n",
    "def display_dictionary(table, rounding = True, round_by = 1, unit = \"\"):\n",
    "    table_display = []\n",
    "    for key in table:\n",
    "        key_val_as_tuple = (table[key], key)\n",
    "        table_display.append(key_val_as_tuple)\n",
    "\n",
    "    table_sorted = sorted(table_display, reverse = True)\n",
    "    if rounding == False:\n",
    "        for entry in table_sorted:\n",
    "            print(entry[1], ':', entry[0], unit)\n",
    "    else:\n",
    "        for entry in table_sorted:\n",
    "            print(entry[1], ':', round(entry[0],round_by), unit)\n",
    "\n",
    "print(\"App Genres on Apple store by count descending:\\n\")\n",
    "display_dictionary(apple_freq_table, unit = \"%\")\n",
    "print(\"\\nApp Genres on Google store by count descending:\\n\")\n",
    "display_dictionary(google_freq_table, unit = \"%\")"
   ]
  },
  {
   "cell_type": "markdown",
   "id": "bece982b",
   "metadata": {},
   "source": [
    "Comparing the results from the two markets, we can see that Google Play data has a different categorisation compared to the Apple data. At first glance it would seem that in Google store, Education apps are the most popular but if we dive deeper we can see that it is because the \"Games\" category is split into different genres. \n",
    "\n",
    "Considering this, games would still come up as the most frequent category of apps on the Google store.\n",
    "\n",
    "Let's look at the ranking if we were to group all game genres together. [Documentation used for clasification](https://support.google.com/googleplay/android-developer/answer/9859673?hl=en#zippy=%2Cgames%2Capps). \n",
    "Sports category can be both an app for sports coverage but it can be also a game. For purposes of this analyses we are considering it to be the sports coverage app category as the share looks similar to what we see with Apple store data. More information is needed for a more accurate answer.\n"
   ]
  },
  {
   "cell_type": "code",
   "execution_count": 61,
   "id": "c8a9b73f",
   "metadata": {},
   "outputs": [
    {
     "name": "stdout",
     "output_type": "stream",
     "text": [
      "Grouped App Genres on Google store by count descending:\n",
      "\n",
      "Games : 43.5 %\n",
      "Education : 7.4 %\n",
      "Tools : 6.4 %\n",
      "Entertainment : 4.1 %\n",
      "Books & Reference : 3.8 %\n",
      "Sports : 3.4 %\n",
      "Health & Fitness : 3.3 %\n",
      "Productivity : 2.8 %\n",
      "Lifestyle : 2.7 %\n",
      "News & Magazines : 2.3 %\n",
      "Music & Audio : 2.2 %\n",
      "Travel & Local : 1.9 %\n",
      "Personalization : 1.9 %\n",
      "Social : 1.8 %\n",
      "Photography : 1.4 %\n",
      "Finance : 1.2 %\n",
      "Business : 1.2 %\n",
      "Weather : 1.1 %\n",
      "Communication : 1.1 %\n",
      "Dating : 0.9 %\n",
      "Medical : 0.8 %\n",
      "Maps & Navigation : 0.8 %\n",
      "Video Players & Editors : 0.7 %\n",
      "Food & Drink : 0.7 %\n",
      "Auto & Vehicles : 0.5 %\n",
      "Music : 0.4 %\n",
      "Art & Design : 0.4 %\n",
      "Shopping : 0.3 %\n",
      "Parenting : 0.3 %\n",
      "Comics : 0.3 %\n",
      "Libraries & Demo : 0.2 %\n",
      "House & Home : 0.2 %\n",
      "Events : 0.1 %\n",
      "Beauty : 0.1 %\n"
     ]
    }
   ],
   "source": [
    "# Step 1: Writing down all genres that we can group under \"Games\"\n",
    "game_genres = [\"Puzzle\", \"Arcade\", \"Casual\", \"Simulation\", \"Action\", \"Adventure\", \"Role Playing\", \"Educational\", \n",
    "               \"Strategy\", \"Racing\", \"Word\", \"Casino\", \"Card\", \"Board\", \"Trivia\"] \n",
    "\n",
    "# Step 2: Creating a modified data set with games category grouped (will facilitate calculations later)\n",
    "google_data_free_en_grouped = google_data_free_en\n",
    "\n",
    "for row in google_data_free_en_grouped:\n",
    "    genre = row[2]\n",
    "    if genre in game_genres:\n",
    "        row[2] = \"Games\"\n",
    "\n",
    "google_freq_grouped = freq_table(google_data_free_en_grouped, 2)\n",
    "\n",
    "print(\"Grouped App Genres on Google store by count descending:\\n\")\n",
    "display_dictionary(google_freq_grouped, unit = \"%\")"
   ]
  },
  {
   "cell_type": "markdown",
   "id": "ac484be1",
   "metadata": {},
   "source": [
    "Now if we look at the results we can clearly see that for both Google Play Store and Apple App Store, games are the most frequent genre of apps followed by educational apps.\n",
    "\n",
    "While for the education category the differences between the two platforms are just 2pp for the games category the differences are significant. App store seems to have a more balanced distribution between the different categories whereas Google platform is mostly inondated with Gaming apps.\n",
    "\n",
    "Now the sheer volume of apps isn't the only metric company should explore as too many apps in one category might signify that it will be hard to stand out against competition as the market is already over saturated. That's why we will now try to determine:\n",
    "1. Which apps have the most installs on average (Google data only)\n",
    "2. Which apps receive the most reviews on average\n",
    "3. Which apps have the highest average rating"
   ]
  },
  {
   "cell_type": "code",
   "execution_count": 62,
   "id": "793ecfaf",
   "metadata": {},
   "outputs": [],
   "source": [
    "# Step 1: Changing data types for the number columns in both datasets to make latter calculations easier\n",
    "\n",
    "for row in google_data_free_en_grouped:\n",
    "    row[7] = int(row[7]) # Installs\n",
    "    row[4] = int(row[4]) # No. of reviews\n",
    "    row[3] = float(row[3]) # Rating\n",
    "    \n",
    "for row in apple_data_free_en:\n",
    "    row[-3] = int(row[-3]) # No. of reviews\n",
    "    row[-4] = float(row[-4]) # Rating\n",
    "\n",
    "# Step 2: Create a function that calculates averages per metric like installs or rankings and then groups it by \n",
    "# selected column. This will enable us to reuse this function for the 3 use cases above.\n",
    "\n",
    "# This app takes three arguments. First the dataset to analyze then the index of the column that contains the metric \n",
    "# we want to see average of. For example average number of installs. Then it takes the index of the column that we \n",
    "# want to group the average by like genre.\n",
    "# App returns a dictionary where key is the group by column and value is the average for that column value.\n",
    "def average_metric_per_column(dataset, metric_index, column_index):\n",
    "    addition = {} # Dictionary to hold the sum of the metric index\n",
    "    count = {} # Dictionary to hold the occurences per value in selected column\n",
    "    table = {} # Dictionary with averages\n",
    "    for row in dataset: # Iterating over dataset to get occurences and sum of metric value\n",
    "        column_value = row[column_index]\n",
    "        metric_value = row[metric_index]\n",
    "        if column_value in count:\n",
    "            count[column_value] += 1\n",
    "            addition[column_value] += metric_value  # we have converted to floats and integers earlier, so no \n",
    "                                                    # conversion needed\n",
    "        else:\n",
    "            count[column_value] = 1\n",
    "            addition[column_value] = metric_value\n",
    "    for key in addition:\n",
    "        table[key] = addition[key]/count[key]\n",
    "    return table"
   ]
  },
  {
   "cell_type": "markdown",
   "id": "aee1bccf",
   "metadata": {},
   "source": [
    "**1. Which apps have the most installs on average (Google data only)**"
   ]
  },
  {
   "cell_type": "code",
   "execution_count": 63,
   "id": "81a13b8e",
   "metadata": {},
   "outputs": [
    {
     "name": "stdout",
     "output_type": "stream",
     "text": [
      "Average number of installs on Google Store per genre, descending:\n",
      "\n",
      "Communication : 8954326.9 \n",
      "Social : 7842230.5 \n",
      "Video Players & Editors : 7140289.5 \n",
      "Photography : 5633600.0 \n",
      "Productivity : 5333618.6 \n",
      "Music : 5089678.9 \n",
      "Music & Audio : 2484965.9 \n",
      "Games : 2435950.1 \n",
      "Sports : 2165192.2 \n",
      "Tools : 1962104.2 \n",
      "Entertainment : 1768577.6 \n",
      "Weather : 1644048.5 \n",
      "Personalization : 1524009.3 \n",
      "Beauty : 1416537.8 \n",
      "Art & Design : 1291105.4 \n",
      "Business : 1207974.9 \n",
      "House & Home : 1145224.7 \n",
      "Comics : 938966.2 \n",
      "Shopping : 879034.6 \n",
      "Dating : 798010.1 \n",
      "Health & Fitness : 769244.1 \n",
      "Maps & Navigation : 698487.9 \n",
      "Lifestyle : 685614.0 \n",
      "Libraries & Demo : 534469.1 \n",
      "Parenting : 448761.8 \n",
      "Travel & Local : 427189.5 \n",
      "Education : 390540.4 \n",
      "Auto & Vehicles : 360913.6 \n",
      "Books & Reference : 346250.2 \n",
      "Events : 345092.5 \n",
      "Finance : 240606.0 \n",
      "Food & Drink : 219024.3 \n",
      "Medical : 180187.9 \n",
      "News & Magazines : 147346.0 \n"
     ]
    }
   ],
   "source": [
    "# For the number of installs we will take the Max installs column to have a precise number, Installs column has only\n",
    "# ranges.\n",
    "google_installs = average_metric_per_column(google_data_free_en_grouped, 7,2)\n",
    "print(\"Average number of installs on Google Store per genre, descending:\\n\")\n",
    "display_dictionary(google_installs, True)"
   ]
  },
  {
   "cell_type": "markdown",
   "id": "104c03a7",
   "metadata": {},
   "source": [
    "Contrary to the number of apps, in terms of the number of installs \"Games\" category doesn't come on top. This shows that although there are many gaming apps on this platform, the market is probably oversaturated with these apps and therefore the number of installs per appp gets diluted.\n",
    "\n",
    "The two categories that come on top are Communication and Social which contain mostly social networking apps so that isn't surprising.\n",
    "\n",
    "Let's look at top 10 apps when it comes to the number of installs."
   ]
  },
  {
   "cell_type": "code",
   "execution_count": 64,
   "id": "2a6ba2a4",
   "metadata": {},
   "outputs": [
    {
     "name": "stdout",
     "output_type": "stream",
     "text": [
      "Google Drive - Productivity : 7028265259\n",
      "Facebook - Social : 6782619635\n",
      "Messenger – Text and Video Chat for Free - Communication : 5054312355\n",
      "Instagram - Social : 3559871277\n",
      "Microsoft OneDrive - Productivity : 2056017889\n",
      "Subway Surfers - Games : 1704495994\n",
      "SHAREit - Transfer & Share - Tools : 1666016612\n",
      "Microsoft Word: Write, Edit & Share Docs on the Go - Productivity : 1651577965\n",
      "TikTok - Social : 1645811582\n",
      "Snapchat - Social : 1621265491\n"
     ]
    }
   ],
   "source": [
    "from operator import itemgetter # importing itemgetter for sorting purposes\n",
    "\n",
    "i = 0\n",
    "sorted_list = sorted(google_data_free_en_grouped, key=itemgetter(7), reverse = True)\n",
    "while i<10:\n",
    "    print(sorted_list[i][0], \"-\", sorted_list[i][2], \":\", sorted_list[i][7])\n",
    "    i += 1"
   ]
  },
  {
   "cell_type": "markdown",
   "id": "0c26f270",
   "metadata": {},
   "source": [
    "**2. Which apps receive the most reviews on average**"
   ]
  },
  {
   "cell_type": "code",
   "execution_count": 65,
   "id": "851e1ec1",
   "metadata": {},
   "outputs": [
    {
     "name": "stdout",
     "output_type": "stream",
     "text": [
      "Average number of reviews on Google Store per genre, descending:\n",
      "\n",
      "Social : 148416.1 \n",
      "Communication : 119482.8 \n",
      "Video Players & Editors : 88892.7 \n",
      "Photography : 57469.5 \n",
      "Music : 40003.1 \n",
      "Sports : 38432.1 \n",
      "Games : 35469.1 \n",
      "Music & Audio : 26782.8 \n",
      "Tools : 21436.1 \n",
      "Personalization : 19627.3 \n",
      "Art & Design : 17171.6 \n",
      "Productivity : 17140.7 \n",
      "Entertainment : 16465.7 \n",
      "Shopping : 15770.5 \n",
      "Weather : 14667.4 \n",
      "Beauty : 11810.7 \n",
      "Comics : 11333.4 \n",
      "Health & Fitness : 9950.2 \n",
      "Dating : 9558.0 \n",
      "Business : 8576.4 \n",
      "Lifestyle : 8115.7 \n",
      "Maps & Navigation : 7257.1 \n",
      "Parenting : 7222.0 \n",
      "House & Home : 6997.3 \n",
      "Books & Reference : 5248.7 \n",
      "Education : 4692.3 \n",
      "Finance : 4063.7 \n",
      "Auto & Vehicles : 2828.4 \n",
      "Medical : 2604.5 \n",
      "Events : 2543.6 \n",
      "Travel & Local : 2351.0 \n",
      "Libraries & Demo : 2064.9 \n",
      "News & Magazines : 1845.9 \n",
      "Food & Drink : 1546.1 \n",
      "\n",
      "Top 10 most reviewed apps descending:\n",
      "\n",
      "Instagram - Social : 120206190\n",
      "Facebook - Social : 117850066\n",
      "Garena Free Fire - Rampage - Games : 89177097\n",
      "Messenger – Text and Video Chat for Free - Communication : 78563229\n",
      "Clash of Clans - Games : 56025424\n",
      "PUBG MOBILE - Traverse - Games : 37479011\n",
      "TikTok - Social : 36446381\n",
      "Candy Crush Saga - Games : 31476637\n",
      "Clash Royale - Games : 31018623\n",
      "Mobile Legends: Bang Bang - Games : 26860860\n"
     ]
    }
   ],
   "source": [
    "google_reviews = average_metric_per_column(google_data_free_en_grouped, 4,2)\n",
    "print(\"Average number of reviews on Google Store per genre, descending:\\n\")\n",
    "display_dictionary(google_reviews)\n",
    "\n",
    "i = 0\n",
    "print(\"\\nTop 10 most reviewed apps descending:\\n\")\n",
    "sorted_list = sorted(google_data_free_en_grouped, key=itemgetter(4), reverse = True)\n",
    "while i<10:\n",
    "    print( sorted_list[i][0], \"-\", sorted_list[i][2], \":\", sorted_list[i][4])\n",
    "    i += 1"
   ]
  },
  {
   "cell_type": "markdown",
   "id": "0718d323",
   "metadata": {},
   "source": [
    "Looking at the ranking, we can see that it is very similar to the number of installs therefore, using the number of reviews for Apple Store as a proxy to deduce popular app categories, seems to be a sensible approach.\n",
    "\n",
    "Now let's look at Apple Store."
   ]
  },
  {
   "cell_type": "code",
   "execution_count": 66,
   "id": "6c4217d0",
   "metadata": {},
   "outputs": [
    {
     "name": "stdout",
     "output_type": "stream",
     "text": [
      "Average number of reviews on Apple Store per genre, descending:\n",
      "\n",
      "Photo & Video : 5654.7 \n",
      "Weather : 5461.7 \n",
      "Shopping : 4629.3 \n",
      "Finance : 4053.4 \n",
      "Travel : 4006.9 \n",
      "Music : 3894.2 \n",
      "Food & Drink : 3187.3 \n",
      "Social Networking : 2762.8 \n",
      "Graphics & Design : 2596.9 \n",
      "Book : 2364.5 \n",
      "Developer Tools : 2360.9 \n",
      "Navigation : 2349.9 \n",
      "Games : 2227.1 \n",
      "Entertainment : 2034.5 \n",
      "News : 1746.4 \n",
      "Reference : 1646.0 \n",
      "Productivity : 1602.1 \n",
      "Health & Fitness : 1205.3 \n",
      "Lifestyle : 1139.0 \n",
      "Utilities : 1118.6 \n",
      "Sports : 1111.9 \n",
      "Business : 703.3 \n",
      "Education : 586.9 \n",
      "Medical : 514.4 \n",
      "Magazines & Newspapers : 123.5 \n",
      "Stickers : 22.9 \n",
      "\n",
      "Top 10 most reviewed apps descending:\n",
      "\n",
      "YouTube: Watch, Listen, Stream - Photo & Video : 22685334\n",
      "Instagram - Photo & Video : 21839585\n",
      "Spotify New Music and Podcasts - Music : 18893225\n",
      "Venmo - Finance : 12634191\n",
      "DoorDash - Food Delivery - Food & Drink : 12517538\n",
      "TikTok - Entertainment : 10598509\n",
      "Lyft - Travel : 10241777\n",
      "WhatsApp Messenger - Social Networking : 9090956\n",
      "Pandora: Music & Podcasts - Music : 8297798\n",
      "Bible - Reference : 7181127\n"
     ]
    }
   ],
   "source": [
    "apple_reviews = average_metric_per_column(apple_data_free_en, -3,3)\n",
    "print(\"Average number of reviews on Apple Store per genre, descending:\\n\")\n",
    "display_dictionary(apple_reviews)\n",
    "\n",
    "# Now let's look at top 10 most reviewed apps so that we have a compariosn with Google store for specific apps\n",
    "\n",
    "i = 0\n",
    "print(\"\\nTop 10 most reviewed apps descending:\\n\")\n",
    "sorted_list = sorted(apple_data_free_en, key=itemgetter(-3), reverse = True)\n",
    "while i<10:\n",
    "    print( sorted_list[i][1], \"-\", sorted_list[i][3], \":\", sorted_list[i][-3])\n",
    "    i += 1"
   ]
  },
  {
   "cell_type": "markdown",
   "id": "562ae194",
   "metadata": {},
   "source": [
    "Overal we can see that Apple Store has significantly smaller number of reviews on average. This might signify either less engaged users or simply less users overal. Another factor that can influence this is that the data was collected at two different time points and also with different collection methods.\n",
    "\n",
    "Finally let's answer the final question, what category has the highest average rating.\n",
    "\n",
    "**3. Which apps have the highest average rating**"
   ]
  },
  {
   "cell_type": "code",
   "execution_count": 67,
   "id": "b88985c1",
   "metadata": {},
   "outputs": [
    {
     "name": "stdout",
     "output_type": "stream",
     "text": [
      "Average app rating on Google Store per genre, descending:\n",
      "\n",
      "Weather : 4.3 \n",
      "Books & Reference : 4.2 \n",
      "Education : 4.2 \n",
      "Libraries & Demo : 4.2 \n",
      "Finance : 4.1 \n",
      "Music & Audio : 4.1 \n",
      "Health & Fitness : 4.1 \n",
      "Games : 4.1 \n",
      "Shopping : 4.1 \n",
      "Events : 4.1 \n",
      "Parenting : 4.1 \n",
      "Food & Drink : 4.0 \n",
      "Medical : 4.0 \n",
      "Music : 4.0 \n",
      "Business : 4.0 \n",
      "Productivity : 4.0 \n",
      "Sports : 4.0 \n",
      "Travel & Local : 4.0 \n",
      "Lifestyle : 4.0 \n",
      "Social : 4.0 \n",
      "Personalization : 4.0 \n",
      "Communication : 4.0 \n",
      "Photography : 4.0 \n",
      "Entertainment : 4.0 \n",
      "Art & Design : 4.0 \n",
      "Tools : 4.0 \n",
      "Auto & Vehicles : 4.0 \n",
      "Maps & Navigation : 3.9 \n",
      "Video Players & Editors : 3.9 \n",
      "Comics : 3.9 \n",
      "Beauty : 3.9 \n",
      "House & Home : 3.8 \n",
      "News & Magazines : 3.7 \n",
      "Dating : 3.7 \n"
     ]
    }
   ],
   "source": [
    "google_rating = average_metric_per_column(google_data_free_en_grouped, 3,2)\n",
    "print(\"Average app rating on Google Store per genre, descending:\\n\")\n",
    "display_dictionary(google_rating)"
   ]
  },
  {
   "cell_type": "code",
   "execution_count": 68,
   "id": "a04e09a5",
   "metadata": {},
   "outputs": [
    {
     "name": "stdout",
     "output_type": "stream",
     "text": [
      "Average app rating on Apple Store per genre, descending:\n",
      "\n",
      "Shopping : 4.4 \n",
      "Graphics & Design : 4.3 \n",
      "Developer Tools : 4.3 \n",
      "Food & Drink : 4.3 \n",
      "Lifestyle : 4.2 \n",
      "Health & Fitness : 4.2 \n",
      "Social Networking : 4.2 \n",
      "Music : 4.2 \n",
      "Magazines & Newspapers : 4.2 \n",
      "Business : 4.1 \n",
      "Sports : 4.1 \n",
      "Reference : 4.1 \n",
      "Book : 4.1 \n",
      "Stickers : 4.1 \n",
      "Medical : 4.1 \n",
      "Finance : 4.1 \n",
      "News : 4.1 \n",
      "Education : 4.0 \n",
      "Productivity : 4.0 \n",
      "Games : 4.0 \n",
      "Travel : 4.0 \n",
      "Entertainment : 3.9 \n",
      "Weather : 3.9 \n",
      "Utilities : 3.8 \n",
      "Photo & Video : 3.7 \n",
      "Navigation : 3.7 \n"
     ]
    }
   ],
   "source": [
    "apple_rating = average_metric_per_column(apple_data_free_en, -4,3)\n",
    "print(\"Average app rating on Apple Store per genre, descending:\\n\")\n",
    "display_dictionary(apple_rating)"
   ]
  },
  {
   "cell_type": "markdown",
   "id": "e8a7b374",
   "metadata": {},
   "source": [
    "# Conclusion and Recommendations\n",
    "So there are two approaches that I would recommend to an app developpment company.\n",
    "\n",
    "## 1st Approach\n",
    "Trying to get into a segment that is popular and has high engagement (has high number of installs/reviews) with  positive reviews.\n",
    "\n",
    "The problem with this approach is that penetrating into this market might be more difficult as there are already apps that are very popular and of high quality based on the reviews and installs. Therefore the company would have to convince the users that their app can compete with what they are using currently.\n",
    "\n",
    "## 2nd Approach\n",
    "On the other hand, if we look into apps that are popular (have fairly high number of installs/reviews) but have the lower average ratings we might have a better chance of coming up with an app that will have the audience and will be willing to try something new as they aren't too satisfied with the current app."
   ]
  },
  {
   "cell_type": "markdown",
   "id": "42e99635",
   "metadata": {},
   "source": [
    "## Final Recommendation\n",
    "\n",
    "I would recommend the 2nd approach, so that's the one I'm going to develop below.\n",
    "\n",
    "Comparing data from Google and Apple in terms of market saturation, the hardest markets to penetrate will be in gaming, education and utility/tools apps. These categories have the highest share of apps on these markets and therefore it will be hard to stand out in the crowd.\n",
    "\n",
    "We need people to actually download our app and install it on their device so that we can convince to make an in-app purchase. Ideally we want to find a category that people install often but the competition (number of apps) isn't that big. And the average rating of the apps is towards the lower end so that we have a better chance of bringing improvement. Last thing we might want to consider are categories that have well-established apps with loyal users.\n",
    "\n",
    "Here I would consider the following genres, Social, Communication, Video and Photography apps. These categories have usually a couple of well established apps (Facebook, Instagram...) and people don't go for new apps on the market that often. A similar case might be in the Music category.\n",
    "\n",
    "If we wanted to create an objective way to choose the category we could give a weight to the different parameters and then score each category and take the one with the highest score. As we are first launching on Google Play Store we will start with that one and then simply verify if the recommendation makes sense for Apple App Store as well.\n",
    "\n",
    "This is the weight we're going to attribute to the different factors:\n",
    "1. Share of apps 30% (Category with the smallest number of apps gets the most points)\n",
    "2. Number of Installs 60% (Category with the highest average number of installs gets the most points)\n",
    "3. Average rating 10% (Category with the lowest average ranking gets the most points)\n",
    "\n",
    "final_score = 30% * Number of Apps rank + 60% * Average number of installs + 10% * Average rating\n",
    "\n",
    "We won't look at the number of reviews as those closely correlate with the number of installs. The number of installs gets the highest weight as it is the factor that will help us the most in establishing a big enough audience to market to. \n",
    "\n",
    "One thing to say is that the spread of rating (difference between highest and lowest rating) isn't very big, therefore this will not have that big of an impact and we will give it a lower weight equally."
   ]
  },
  {
   "cell_type": "code",
   "execution_count": 92,
   "id": "92636ad4",
   "metadata": {
    "scrolled": false
   },
   "outputs": [
    {
     "name": "stdout",
     "output_type": "stream",
     "text": [
      "Video Players & Editors : 29.0 \n",
      "Communication : 28.3 \n",
      "Music : 26.6 \n",
      "Social : 26.0 \n",
      "Beauty : 25.9 \n",
      "Photography : 25.4 \n",
      "House & Home : 23.3 \n",
      "Art & Design : 22.6 \n",
      "Comics : 22.2 \n",
      "Productivity : 22.0 \n",
      "Music & Audio : 20.7 \n",
      "Weather : 19.3 \n",
      "Personalization : 19.2 \n",
      "Sports : 19.1 \n",
      "Shopping : 18.9 \n",
      "Tools : 18.5 \n",
      "Dating : 18.4 \n",
      "Entertainment : 18.0 \n",
      "Business : 18.0 \n",
      "Games : 17.3 \n",
      "Maps & Navigation : 16.9 \n",
      "Libraries & Demo : 16.6 \n",
      "Parenting : 15.8 \n",
      "Auto & Vehicles : 14.4 \n",
      "Events : 13.9 \n",
      "Lifestyle : 11.8 \n",
      "Health & Fitness : 11.2 \n",
      "Travel & Local : 10.8 \n",
      "Food & Drink : 10.2 \n",
      "Medical : 9.1 \n",
      "Finance : 7.7 \n",
      "News & Magazines : 6.9 \n",
      "Education : 5.7 \n",
      "Books & Reference : 5.3 \n",
      "None\n"
     ]
    }
   ],
   "source": [
    "sorted_google_apps = sorted(google_freq_grouped, key=google_freq_grouped.get, reverse = True)\n",
    "\n",
    "sorted_google_installs = sorted(google_installs,key=google_installs.get, reverse = False) \n",
    "# we have sorted from smallest number of installs to highest number of installs so that the app with most installs \n",
    "# gets most points (highest index/ranking)\n",
    "\n",
    "sorted_google_rating = sorted(google_rating,key=google_rating.get, reverse = True)\n",
    "\n",
    "score_google = {}  # Dictionary that will hold the category name as the key and then a list of the three different ranks in\n",
    "            # in this order: no. of apps, average no. of installs, average rating\n",
    "    \n",
    "for genre in sorted_google_apps:\n",
    "    score_google[genre] = (list(sorted_google_apps).index(genre)+1)*0.3 + (list(sorted_google_installs).index(genre)+1)*0.6 + (list(sorted_google_rating).index(genre)+1)*0.1\n",
    "    # We have pre sorted the different lists above, therefore their index equals to the rankings/score of the genres\n",
    "    # We have added 1 to each index as otherwise the first one would be 0.\n",
    "    # Afterwards we have just multiplied each factor bz corresponding weight defined above and then summed it together\n",
    "    \n",
    "print(display_dictionary(score_google))"
   ]
  },
  {
   "cell_type": "markdown",
   "id": "da1fb5ae",
   "metadata": {},
   "source": [
    "Unsurprisingly the top 4 genres to pursue are \n",
    "\n",
    "1. Video Players & Editors \n",
    "2. Communication \n",
    "3. Music \n",
    "4. Social\n",
    "\n",
    "This is probably the reason why apps like Facebook, Instagram and Youtube generate such a big quantity of money. But as I mentioned above it will be very heard to beat these well-established apps.\n",
    "\n",
    "Therefore, I would recommend looking into the following genres:\n",
    "1. Beauty\n",
    "2. House & Home\n",
    "3. Art & Design\n",
    "4. Comics\n",
    "5. Productivity\n",
    "\n",
    "I have on purpose omitted photography category, as here I'm afraid we might have apps such as Photoshop that will be very heard to develop and to beat in terms of popularity. Even with apps that have paid filters as Instagram now offers a vast range of filters for free.\n",
    "\n",
    "At the end of the day, the company should also consider its expertise and actual capacity to build an app in a genre. A succesfull app in any genre requires a fairly original idea and good execution. So if a company has a good ideas in any of the genres above it might have a higher chance to gain larger profit from its launch.\n",
    "\n",
    "Now, we know we want to launch the concept on Google Play Store but let's check whether we will get a similar result for the Apple data set. Here we will supplement installs for reviews as we don't have the information on the installs."
   ]
  },
  {
   "cell_type": "code",
   "execution_count": 95,
   "id": "862fa1bc",
   "metadata": {},
   "outputs": [
    {
     "name": "stdout",
     "output_type": "stream",
     "text": [
      "Weather : 24.2 \n",
      "Photo & Video : 22.0 \n",
      "Travel : 19.5 \n",
      "Graphics & Design : 18.2 \n",
      "Navigation : 17.9 \n",
      "Shopping : 17.8 \n",
      "Finance : 17.8 \n",
      "Developer Tools : 17.7 \n",
      "Book : 17.5 \n",
      "Music : 17.0 \n",
      "Social Networking : 16.9 \n",
      "Food & Drink : 15.4 \n",
      "News : 14.6 \n",
      "Reference : 13.2 \n",
      "Entertainment : 12.1 \n",
      "Games : 10.7 \n",
      "Productivity : 10.6 \n",
      "Magazines & Newspapers : 9.6 \n",
      "Sports : 9.2 \n",
      "Stickers : 8.6 \n",
      "Medical : 8.4 \n",
      "Utilities : 8.1 \n",
      "Health & Fitness : 7.8 \n",
      "Lifestyle : 6.5 \n",
      "Business : 4.9 \n",
      "Education : 4.8 \n",
      "None\n"
     ]
    }
   ],
   "source": [
    "sorted_apple_apps = sorted(apple_freq_table, key=apple_freq_table.get, reverse = True)\n",
    "\n",
    "sorted_apple_reviews = sorted(apple_reviews,key=apple_reviews.get, reverse = False) \n",
    "\n",
    "sorted_apple_rating = sorted(apple_rating,key=apple_rating.get, reverse = True)\n",
    "\n",
    "score_apple = {}  # Dictionary that will hold the category name as the key and then a list of the three different ranks in\n",
    "            # in this order: no. of apps, average no. of installs, average rating\n",
    "    \n",
    "for genre in sorted_apple_apps:\n",
    "    score_apple[genre] = (list(sorted_apple_apps).index(genre)+1)*0.3 + (list(sorted_apple_reviews).index(genre)+1)*0.6 + (list(sorted_apple_rating).index(genre)+1)*0.1\n",
    "    # We have pre sorted the different lists above, therefore their index equals to the rankings/score of the genres\n",
    "    # We have added 1 to each index as otherwise the first one would be 0.\n",
    "    # Afterwards we have just multiplied each factor bz corresponding weight defined above and then summed it together\n",
    "    \n",
    "print(display_dictionary(score_apple))"
   ]
  },
  {
   "cell_type": "markdown",
   "id": "7d1d4573",
   "metadata": {},
   "source": [
    "As you can see for Apple App Store we see a different picture. Beauty and House and Home genres don't even exist in their list of genres but Design apps ranks fairly high on both of them. \n",
    "\n",
    "So a good design app might be something that will work on both platforms."
   ]
  },
  {
   "cell_type": "markdown",
   "id": "e13bbf76",
   "metadata": {},
   "source": [
    "## Additional data\n",
    "Let's take a final look at the data. We will look at the top 10 apps in terms of installs for the Beauty, House & Home and Art & Design genres."
   ]
  },
  {
   "cell_type": "code",
   "execution_count": 105,
   "id": "089e1f68",
   "metadata": {
    "scrolled": true
   },
   "outputs": [
    {
     "name": "stdout",
     "output_type": "stream",
     "text": [
      "142280 rows were filtered out.\n",
      "\n",
      "Top 10 Google Apps based on number of installs Beauty category:\n",
      "\n",
      "Perfect365: One-Tap Makeover - Beauty : 53849836\n",
      "Mirror Plus: Mirror with Light for Makeup & Beauty - Beauty : 41505377\n",
      "Beauty Makeup Editor: Beauty Camera, Photo Editor - Beauty : 32076828\n",
      "DSLR HD Camera : 4K HD Camera Ultra Blur Effect - Beauty : 9026840\n",
      "Crown Editor - Heart Filters for Pictures - Beauty : 7813579\n",
      "Hairstyles step by step - Beauty : 7651901\n",
      "YuFace: Makeup Camera, Makeover Face Editor Magic - Beauty : 7413964\n",
      "Ice Queen - Dress Up & Makeup - Beauty : 7313753\n",
      "camera for instagram filters & effects: IG filters - Beauty : 6484792\n",
      "Mirror Camera  (Mirror + Selfie Camera) - Beauty : 5974006\n"
     ]
    }
   ],
   "source": [
    "i = 0\n",
    "\n",
    "google_beauty = filter_value(google_data_free_en_grouped, 2, \"Beauty\", filter_type = \"Include\")\n",
    "sorted_list = sorted(google_beauty, key=itemgetter(7), reverse = True)\n",
    "\n",
    "print(\"\\nTop 10 Google Apps based on number of installs Beauty category:\\n\")\n",
    "while i<10:\n",
    "    print( sorted_list[i][0], \"-\", sorted_list[i][2], \":\", sorted_list[i][7])\n",
    "    i += 1"
   ]
  },
  {
   "cell_type": "code",
   "execution_count": 106,
   "id": "f39c50a9",
   "metadata": {},
   "outputs": [
    {
     "name": "stdout",
     "output_type": "stream",
     "text": [
      "142203 rows were filtered out.\n",
      "\n",
      "Top 10 Google Apps based on number of installs House & Home category:\n",
      "\n",
      "Universal TV Remote Control - House & Home : 96444714\n",
      "SURE - Smart Home and TV Universal Remote - House & Home : 34855441\n",
      "Planner 5D - Home & Interior Design Creator - House & Home : 30189982\n",
      "Alfred Home Security Camera: Baby Monitor & Webcam - House & Home : 26557624\n",
      "Home Design 3D - House & Home : 18456706\n",
      "Room Planner: Home Interior & Floorplan Design 3D - House & Home : 10147915\n",
      "Home Security Camera WardenCam - reuse old phones - House & Home : 9504176\n",
      "Universal TV Remote - House & Home : 7551952\n",
      "idealista - House & Home : 6923059\n",
      "Smart TV's Remote Control - House & Home : 4841215\n"
     ]
    }
   ],
   "source": [
    "i = 0\n",
    "\n",
    "google_house = filter_value(google_data_free_en_grouped, 2, \"House & Home\", filter_type = \"Include\")\n",
    "sorted_list = sorted(google_house, key=itemgetter(7), reverse = True)\n",
    "\n",
    "print(\"\\nTop 10 Google Apps based on number of installs House & Home category:\\n\")\n",
    "while i<10:\n",
    "    print( sorted_list[i][0], \"-\", sorted_list[i][2], \":\", sorted_list[i][7])\n",
    "    i += 1"
   ]
  },
  {
   "cell_type": "code",
   "execution_count": 109,
   "id": "73298ed7",
   "metadata": {},
   "outputs": [
    {
     "name": "stdout",
     "output_type": "stream",
     "text": [
      "141812 rows were filtered out.\n",
      "\n",
      "Top 10 Google Apps based on number of installs Art & Design category:\n",
      "\n",
      "Canva: Graphic Design, Video Collage, Logo Maker - Art & Design : 134619454\n",
      "ibis Paint X - Art & Design : 100950900\n",
      "Flipaclip: Cartoon Animation Creator & Art Studio - Art & Design : 32068539\n",
      "PaperColor - Art & Design : 27024527\n",
      "MediBang Paint - Make Art ! - Art & Design : 25820756\n",
      "U Launcher Lite-New 3D Launcher 2020, Hide apps - Art & Design : 20583655\n",
      "Floor Plan Creator - Art & Design : 20093590\n",
      "Photos Alive - Jellify - Art & Design : 19354476\n",
      "Unfold — Story Maker & Instagram Template Editor - Art & Design : 17803439\n",
      "Adobe Spark Post: Graphic Design & Story Templates - Art & Design : 16431111\n"
     ]
    }
   ],
   "source": [
    "i = 0\n",
    "\n",
    "google_design = filter_value(google_data_free_en_grouped, 2, \"Art & Design\", filter_type = \"Include\")\n",
    "sorted_list = sorted(google_design, key=itemgetter(7), reverse = True)\n",
    "\n",
    "print(\"\\nTop 10 Google Apps based on number of installs Art & Design category:\\n\")\n",
    "while i<10:\n",
    "    print( sorted_list[i][0], \"-\", sorted_list[i][2], \":\", sorted_list[i][7])\n",
    "    i += 1"
   ]
  },
  {
   "cell_type": "markdown",
   "id": "64056901",
   "metadata": {},
   "source": [
    "Based on looking at the different apps a makeover app or a home planning app might perform particularly well."
   ]
  }
 ],
 "metadata": {
  "kernelspec": {
   "display_name": "Python 3 (ipykernel)",
   "language": "python",
   "name": "python3"
  },
  "language_info": {
   "codemirror_mode": {
    "name": "ipython",
    "version": 3
   },
   "file_extension": ".py",
   "mimetype": "text/x-python",
   "name": "python",
   "nbconvert_exporter": "python",
   "pygments_lexer": "ipython3",
   "version": "3.9.13"
  }
 },
 "nbformat": 4,
 "nbformat_minor": 5
}
